{
  "cells": [
    {
      "cell_type": "code",
      "execution_count": null,
      "metadata": {
        "id": "BXrr0Ab5kqx3"
      },
      "outputs": [],
      "source": [
        "!pip install googletrans==4.0.0-rc1"
      ]
    },
    {
      "cell_type": "code",
      "execution_count": null,
      "metadata": {
        "id": "Pj5irJHAjnJT"
      },
      "outputs": [],
      "source": [
        "import pandas as pd\n",
        "import numpy as np\n",
        "import matplotlib.pyplot as plt\n",
        "import seaborn as sns\n",
        "from googletrans import Translator\n"
      ]
    },
    {
      "cell_type": "markdown",
      "metadata": {
        "id": "oFSlwE0PjwgI"
      },
      "source": [
        "# Dataset Information\n",
        "\n",
        "- Collected from [NewsData.io](https://newsdata.io)\n",
        "\n",
        "- Date Range : **9 March 2025 to 23 March 2025**\n",
        "- Query : **\"Nagpur OR Maharashtra OR Muslim OR Islam OR Violence\"**\n",
        "- Total len of the data: **27937**"
      ]
    },
    {
      "cell_type": "code",
      "execution_count": null,
      "metadata": {
        "id": "HavpYLwGjt16"
      },
      "outputs": [],
      "source": [
        "newsdata = pd.read_json('path/to/data-files/newsdata_articles_mar9_23.json')\n"
      ]
    },
    {
      "cell_type": "code",
      "execution_count": null,
      "metadata": {
        "colab": {
          "base_uri": "https://localhost:8080/"
        },
        "id": "q-6n7T8VkYUv",
        "outputId": "df742bca-4f7c-4a1e-8879-8a7d181867d5"
      },
      "outputs": [],
      "source": [
        "newsdata.shape"
      ]
    },
    {
      "cell_type": "code",
      "execution_count": null,
      "metadata": {
        "colab": {
          "base_uri": "https://localhost:8080/",
          "height": 523
        },
        "id": "CPK0QKWukGum",
        "outputId": "98020d24-2caf-43b6-dc51-9d12d6ce2a82"
      },
      "outputs": [],
      "source": [
        "newsdata.value_counts('language')"
      ]
    },
    {
      "cell_type": "code",
      "execution_count": null,
      "metadata": {
        "id": "g7NJTprCkWWv"
      },
      "outputs": [],
      "source": [
        "translator = Translator()\n",
        "\n",
        "def translate_title(row):\n",
        "    if str(row['language']).lower() == \"english\":\n",
        "        return row['title']\n",
        "    try:\n",
        "        translation = translator.translate(row['title'], dest='en')\n",
        "        return translation.text\n",
        "    except Exception as e:\n",
        "        print(f\"Translation failed for: {row['title']} | Error: {e}\")\n",
        "        return row['title']\n",
        "\n",
        "newsdata['translated_title'] = newsdata.apply(translate_title, axis=1)"
      ]
    },
    {
      "cell_type": "code",
      "execution_count": null,
      "metadata": {
        "id": "7uWV2VaFk0Cx"
      },
      "outputs": [],
      "source": [
        "newsdata.to_csv('path/to/data-files/translated_newsdata.csv', index=False)"
      ]
    },
    {
      "cell_type": "code",
      "execution_count": null,
      "metadata": {
        "id": "5v4fYpJHkzL2"
      },
      "outputs": [],
      "source": [
        "translated_newsdata = pd.read_csv('/content/drive/MyDrive/News_Analysis_Data/translated_newsdata.csv')"
      ]
    },
    {
      "cell_type": "markdown",
      "metadata": {
        "id": "MUl6--d6mTQ2"
      },
      "source": [
        "### Filter for `nagpur` and `mulsim` keywords to get two separate dataset for further analysis"
      ]
    },
    {
      "cell_type": "markdown",
      "metadata": {
        "id": "P1aNe6-JnYVO"
      },
      "source": [
        "# Nagpur Violence Dataset"
      ]
    },
    {
      "cell_type": "code",
      "execution_count": null,
      "metadata": {
        "id": "CJQcMrxTmSe8"
      },
      "outputs": [],
      "source": [
        "translated_newsdata = pd.read_csv('/content/drive/MyDrive/News_Analysis_Data/nagpur_translated_data_notEnglish_27937.csv')"
      ]
    },
    {
      "cell_type": "code",
      "execution_count": null,
      "metadata": {
        "id": "wfkJ2bW-ncBl"
      },
      "outputs": [],
      "source": [
        "# The relevant columns are treated as strings and check for \"nagpur\"\n",
        "# (case-insensitive)\n",
        "nagpur_mask = translated_newsdata['translated_title'].str.contains('nagpur', case=False, na=False) | \\\n",
        "       translated_newsdata['description'].str.contains('nagpur', case=False, na=False)\n",
        "\n",
        "only_nagpur_data = translated_newsdata[nagpur_mask].copy()"
      ]
    },
    {
      "cell_type": "code",
      "execution_count": null,
      "metadata": {
        "colab": {
          "base_uri": "https://localhost:8080/",
          "height": 523
        },
        "collapsed": true,
        "id": "vEd9p_dvnx2F",
        "outputId": "18964de8-c197-4059-b5c1-94caf8792ee9"
      },
      "outputs": [],
      "source": [
        "only_nagpur_data.value_counts('language')\n"
      ]
    },
    {
      "cell_type": "code",
      "execution_count": null,
      "metadata": {
        "id": "rkI3C12Qn1mu"
      },
      "outputs": [],
      "source": [
        "only_nagpur_data.to_csv('path/to/data-files/only_nagpur_data.csv', index=False)"
      ]
    },
    {
      "cell_type": "markdown",
      "metadata": {
        "id": "fE-U08hdoY_H"
      },
      "source": [
        "# Muslim Keyword Analysis Dataset"
      ]
    },
    {
      "cell_type": "code",
      "execution_count": null,
      "metadata": {
        "id": "OySI1Pz1oHzN"
      },
      "outputs": [],
      "source": [
        "# The relevant columns are treated as strings and check for \"muslim\"\n",
        "# (case-insensitive)\n",
        "muslim_mask = translated_newsdata['translated_title'].str.contains('muslim', case=False, na=False) | \\\n",
        "       translated_newsdata['description'].str.contains('muslim', case=False, na=False)\n",
        "\n",
        "only_muslim_data = translated_newsdata[muslim_mask].copy()"
      ]
    },
    {
      "cell_type": "code",
      "execution_count": null,
      "metadata": {
        "colab": {
          "base_uri": "https://localhost:8080/"
        },
        "id": "hLdyZP_Bo0sa",
        "outputId": "c932236d-c16f-468c-b53c-31b9b1478181"
      },
      "outputs": [],
      "source": [
        "only_muslim_data.shape"
      ]
    },
    {
      "cell_type": "code",
      "execution_count": null,
      "metadata": {
        "id": "va7msDnNo2d5"
      },
      "outputs": [],
      "source": [
        "only_muslim_data.to_csv('/content/only_muslim_data.csv', index=False)"
      ]
    }
  ],
  "metadata": {
    "colab": {
      "provenance": []
    },
    "kernelspec": {
      "display_name": "Python 3",
      "name": "python3"
    },
    "language_info": {
      "name": "python"
    }
  },
  "nbformat": 4,
  "nbformat_minor": 0
}
