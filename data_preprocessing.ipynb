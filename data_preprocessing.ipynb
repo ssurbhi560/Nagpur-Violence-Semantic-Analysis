{
  "nbformat": 4,
  "nbformat_minor": 0,
  "metadata": {
    "colab": {
      "provenance": []
    },
    "kernelspec": {
      "name": "python3",
      "display_name": "Python 3"
    },
    "language_info": {
      "name": "python"
    }
  },
  "cells": [
    {
      "cell_type": "code",
      "source": [
        "!pip install googletrans==4.0.0-rc1"
      ],
      "metadata": {
        "id": "BXrr0Ab5kqx3"
      },
      "execution_count": null,
      "outputs": []
    },
    {
      "cell_type": "code",
      "execution_count": 1,
      "metadata": {
        "id": "Pj5irJHAjnJT"
      },
      "outputs": [],
      "source": [
        "import pandas as pd\n",
        "import numpy as np\n",
        "import matplotlib.pyplot as plt\n",
        "import seaborn as sns\n",
        "from googletrans import Translator\n"
      ]
    },
    {
      "cell_type": "markdown",
      "source": [
        "# Dataset Information\n",
        "\n",
        "- Collected from [NewsData.io](https://newsdata.io)\n",
        "\n",
        "- Date Range : **9 March 2025 to 23 March 2025**\n",
        "- Query : **\"Nagpur OR Maharashtra OR Muslim OR Islam OR Violence\"**\n",
        "- Total len of the data: **27937**"
      ],
      "metadata": {
        "id": "oFSlwE0PjwgI"
      }
    },
    {
      "cell_type": "code",
      "source": [
        "newsdata = pd.read_json('path/to/data-files/newsdata_articles_mar9_23.json')\n"
      ],
      "metadata": {
        "id": "HavpYLwGjt16"
      },
      "execution_count": 4,
      "outputs": []
    },
    {
      "cell_type": "code",
      "source": [
        "newsdata.shape"
      ],
      "metadata": {
        "colab": {
          "base_uri": "https://localhost:8080/"
        },
        "id": "q-6n7T8VkYUv",
        "outputId": "df742bca-4f7c-4a1e-8879-8a7d181867d5"
      },
      "execution_count": 6,
      "outputs": [
        {
          "output_type": "execute_result",
          "data": {
            "text/plain": [
              "(27937, 24)"
            ]
          },
          "metadata": {},
          "execution_count": 6
        }
      ]
    },
    {
      "cell_type": "code",
      "source": [
        "newsdata.value_counts('language')"
      ],
      "metadata": {
        "colab": {
          "base_uri": "https://localhost:8080/",
          "height": 523
        },
        "id": "CPK0QKWukGum",
        "outputId": "98020d24-2caf-43b6-dc51-9d12d6ce2a82"
      },
      "execution_count": 5,
      "outputs": [
        {
          "output_type": "execute_result",
          "data": {
            "text/plain": [
              "language\n",
              "english      18367\n",
              "marathi       4749\n",
              "hindi         3656\n",
              "gujarati       283\n",
              "kannada        192\n",
              "tamil          169\n",
              "bengali        165\n",
              "malayalam      141\n",
              "telugu         108\n",
              "punjabi         40\n",
              "oriya           33\n",
              "urdu            28\n",
              "assamese         6\n",
              "Name: count, dtype: int64"
            ],
            "text/html": [
              "<div>\n",
              "<style scoped>\n",
              "    .dataframe tbody tr th:only-of-type {\n",
              "        vertical-align: middle;\n",
              "    }\n",
              "\n",
              "    .dataframe tbody tr th {\n",
              "        vertical-align: top;\n",
              "    }\n",
              "\n",
              "    .dataframe thead th {\n",
              "        text-align: right;\n",
              "    }\n",
              "</style>\n",
              "<table border=\"1\" class=\"dataframe\">\n",
              "  <thead>\n",
              "    <tr style=\"text-align: right;\">\n",
              "      <th></th>\n",
              "      <th>count</th>\n",
              "    </tr>\n",
              "    <tr>\n",
              "      <th>language</th>\n",
              "      <th></th>\n",
              "    </tr>\n",
              "  </thead>\n",
              "  <tbody>\n",
              "    <tr>\n",
              "      <th>english</th>\n",
              "      <td>18367</td>\n",
              "    </tr>\n",
              "    <tr>\n",
              "      <th>marathi</th>\n",
              "      <td>4749</td>\n",
              "    </tr>\n",
              "    <tr>\n",
              "      <th>hindi</th>\n",
              "      <td>3656</td>\n",
              "    </tr>\n",
              "    <tr>\n",
              "      <th>gujarati</th>\n",
              "      <td>283</td>\n",
              "    </tr>\n",
              "    <tr>\n",
              "      <th>kannada</th>\n",
              "      <td>192</td>\n",
              "    </tr>\n",
              "    <tr>\n",
              "      <th>tamil</th>\n",
              "      <td>169</td>\n",
              "    </tr>\n",
              "    <tr>\n",
              "      <th>bengali</th>\n",
              "      <td>165</td>\n",
              "    </tr>\n",
              "    <tr>\n",
              "      <th>malayalam</th>\n",
              "      <td>141</td>\n",
              "    </tr>\n",
              "    <tr>\n",
              "      <th>telugu</th>\n",
              "      <td>108</td>\n",
              "    </tr>\n",
              "    <tr>\n",
              "      <th>punjabi</th>\n",
              "      <td>40</td>\n",
              "    </tr>\n",
              "    <tr>\n",
              "      <th>oriya</th>\n",
              "      <td>33</td>\n",
              "    </tr>\n",
              "    <tr>\n",
              "      <th>urdu</th>\n",
              "      <td>28</td>\n",
              "    </tr>\n",
              "    <tr>\n",
              "      <th>assamese</th>\n",
              "      <td>6</td>\n",
              "    </tr>\n",
              "  </tbody>\n",
              "</table>\n",
              "</div><br><label><b>dtype:</b> int64</label>"
            ]
          },
          "metadata": {},
          "execution_count": 5
        }
      ]
    },
    {
      "cell_type": "code",
      "source": [
        "translator = Translator()\n",
        "\n",
        "def translate_title(row):\n",
        "    if str(row['language']).lower() == \"english\":\n",
        "        return row['title']\n",
        "    try:\n",
        "        translation = translator.translate(row['title'], dest='en')\n",
        "        return translation.text\n",
        "    except Exception as e:\n",
        "        print(f\"Translation failed for: {row['title']} | Error: {e}\")\n",
        "        return row['title']\n",
        "\n",
        "newsdata['translated_title'] = newsdata.apply(translate_title, axis=1)"
      ],
      "metadata": {
        "id": "g7NJTprCkWWv"
      },
      "execution_count": null,
      "outputs": []
    },
    {
      "cell_type": "code",
      "source": [
        "newsdata.to_csv('path/to/data-files/translated_newsdata.csv', index=False)"
      ],
      "metadata": {
        "id": "7uWV2VaFk0Cx"
      },
      "execution_count": null,
      "outputs": []
    },
    {
      "cell_type": "code",
      "source": [
        "translated_newsdata = pd.read_csv('/content/drive/MyDrive/News_Analysis_Data/translated_newsdata.csv')"
      ],
      "metadata": {
        "id": "5v4fYpJHkzL2"
      },
      "execution_count": null,
      "outputs": []
    },
    {
      "cell_type": "markdown",
      "source": [
        "## Filter for `nagpur` and `mulsim` keywords to get two separate dataset for further analysis"
      ],
      "metadata": {
        "id": "MUl6--d6mTQ2"
      }
    },
    {
      "cell_type": "markdown",
      "source": [
        "# Nagpur Violence Dataset"
      ],
      "metadata": {
        "id": "P1aNe6-JnYVO"
      }
    },
    {
      "cell_type": "code",
      "source": [
        "translated_newsdata = pd.read_csv('/content/drive/MyDrive/News_Analysis_Data/nagpur_translated_data_notEnglish_27937.csv')"
      ],
      "metadata": {
        "id": "CJQcMrxTmSe8"
      },
      "execution_count": 7,
      "outputs": []
    },
    {
      "cell_type": "code",
      "source": [
        "# The relevant columns are treated as strings and check for \"nagpur\"\n",
        "# (case-insensitive)\n",
        "nagpur_mask = translated_newsdata['translated_title'].str.contains('nagpur', case=False, na=False) | \\\n",
        "       translated_newsdata['description'].str.contains('nagpur', case=False, na=False)\n",
        "\n",
        "only_nagpur_data = translated_newsdata[nagpur_mask].copy()"
      ],
      "metadata": {
        "id": "wfkJ2bW-ncBl"
      },
      "execution_count": 15,
      "outputs": []
    },
    {
      "cell_type": "code",
      "source": [
        "only_nagpur_data.value_counts('language')\n"
      ],
      "metadata": {
        "colab": {
          "base_uri": "https://localhost:8080/",
          "height": 523
        },
        "collapsed": true,
        "id": "vEd9p_dvnx2F",
        "outputId": "18964de8-c197-4059-b5c1-94caf8792ee9"
      },
      "execution_count": 18,
      "outputs": [
        {
          "output_type": "execute_result",
          "data": {
            "text/plain": [
              "language\n",
              "english      1539\n",
              "hindi         864\n",
              "marathi       383\n",
              "kannada        60\n",
              "gujarati       58\n",
              "tamil          48\n",
              "bengali        36\n",
              "malayalam      26\n",
              "telugu         20\n",
              "punjabi        12\n",
              "urdu            8\n",
              "oriya           6\n",
              "assamese        2\n",
              "Name: count, dtype: int64"
            ],
            "text/html": [
              "<div>\n",
              "<style scoped>\n",
              "    .dataframe tbody tr th:only-of-type {\n",
              "        vertical-align: middle;\n",
              "    }\n",
              "\n",
              "    .dataframe tbody tr th {\n",
              "        vertical-align: top;\n",
              "    }\n",
              "\n",
              "    .dataframe thead th {\n",
              "        text-align: right;\n",
              "    }\n",
              "</style>\n",
              "<table border=\"1\" class=\"dataframe\">\n",
              "  <thead>\n",
              "    <tr style=\"text-align: right;\">\n",
              "      <th></th>\n",
              "      <th>count</th>\n",
              "    </tr>\n",
              "    <tr>\n",
              "      <th>language</th>\n",
              "      <th></th>\n",
              "    </tr>\n",
              "  </thead>\n",
              "  <tbody>\n",
              "    <tr>\n",
              "      <th>english</th>\n",
              "      <td>1539</td>\n",
              "    </tr>\n",
              "    <tr>\n",
              "      <th>hindi</th>\n",
              "      <td>864</td>\n",
              "    </tr>\n",
              "    <tr>\n",
              "      <th>marathi</th>\n",
              "      <td>383</td>\n",
              "    </tr>\n",
              "    <tr>\n",
              "      <th>kannada</th>\n",
              "      <td>60</td>\n",
              "    </tr>\n",
              "    <tr>\n",
              "      <th>gujarati</th>\n",
              "      <td>58</td>\n",
              "    </tr>\n",
              "    <tr>\n",
              "      <th>tamil</th>\n",
              "      <td>48</td>\n",
              "    </tr>\n",
              "    <tr>\n",
              "      <th>bengali</th>\n",
              "      <td>36</td>\n",
              "    </tr>\n",
              "    <tr>\n",
              "      <th>malayalam</th>\n",
              "      <td>26</td>\n",
              "    </tr>\n",
              "    <tr>\n",
              "      <th>telugu</th>\n",
              "      <td>20</td>\n",
              "    </tr>\n",
              "    <tr>\n",
              "      <th>punjabi</th>\n",
              "      <td>12</td>\n",
              "    </tr>\n",
              "    <tr>\n",
              "      <th>urdu</th>\n",
              "      <td>8</td>\n",
              "    </tr>\n",
              "    <tr>\n",
              "      <th>oriya</th>\n",
              "      <td>6</td>\n",
              "    </tr>\n",
              "    <tr>\n",
              "      <th>assamese</th>\n",
              "      <td>2</td>\n",
              "    </tr>\n",
              "  </tbody>\n",
              "</table>\n",
              "</div><br><label><b>dtype:</b> int64</label>"
            ]
          },
          "metadata": {},
          "execution_count": 18
        }
      ]
    },
    {
      "cell_type": "code",
      "source": [
        "only_nagpur_data.to_csv('path/to/data-files/only_nagpur_data.csv', index=False)"
      ],
      "metadata": {
        "id": "rkI3C12Qn1mu"
      },
      "execution_count": 23,
      "outputs": []
    },
    {
      "cell_type": "markdown",
      "source": [
        "# Muslim Keyword Analysis Dataset"
      ],
      "metadata": {
        "id": "fE-U08hdoY_H"
      }
    },
    {
      "cell_type": "code",
      "source": [
        "# The relevant columns are treated as strings and check for \"muslim\"\n",
        "# (case-insensitive)\n",
        "muslim_mask = translated_newsdata['translated_title'].str.contains('muslim', case=False, na=False) | \\\n",
        "       translated_newsdata['description'].str.contains('muslim', case=False, na=False)\n",
        "\n",
        "only_muslim_data = translated_newsdata[muslim_mask].copy()"
      ],
      "metadata": {
        "id": "OySI1Pz1oHzN"
      },
      "execution_count": 20,
      "outputs": []
    },
    {
      "cell_type": "code",
      "source": [
        "only_muslim_data.shape"
      ],
      "metadata": {
        "colab": {
          "base_uri": "https://localhost:8080/"
        },
        "id": "hLdyZP_Bo0sa",
        "outputId": "c932236d-c16f-468c-b53c-31b9b1478181"
      },
      "execution_count": 21,
      "outputs": [
        {
          "output_type": "execute_result",
          "data": {
            "text/plain": [
              "(2188, 19)"
            ]
          },
          "metadata": {},
          "execution_count": 21
        }
      ]
    },
    {
      "cell_type": "code",
      "source": [
        "only_muslim_data.to_csv('/content/only_muslim_data.csv', index=False)"
      ],
      "metadata": {
        "id": "va7msDnNo2d5"
      },
      "execution_count": 24,
      "outputs": []
    }
  ]
}